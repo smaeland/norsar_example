{
 "cells": [
  {
   "cell_type": "markdown",
   "metadata": {},
   "source": [
    "This notbook shows some basics of signal processing in **Obspy**. There is also a tutorial at https://docs.obspy.org/tutorial/ that can be useful."
   ]
  },
  {
   "cell_type": "code",
   "execution_count": 1,
   "metadata": {},
   "outputs": [],
   "source": [
    "import json\n",
    "from obspy import Stream, Trace, UTCDateTime\n",
    "import h5py\n",
    "import numpy as np\n",
    "%matplotlib inline"
   ]
  },
  {
   "cell_type": "markdown",
   "metadata": {},
   "source": [
    "Import events"
   ]
  },
  {
   "cell_type": "code",
   "execution_count": 2,
   "metadata": {},
   "outputs": [
    {
     "name": "stdout",
     "output_type": "stream",
     "text": [
      "Loaded 152 earthquake events\n"
     ]
    }
   ],
   "source": [
    "with h5py.File('earthquake_sample_events.h5', 'r') as fin:\n",
    "    event_info_dataset = fin.get('event_info')\n",
    "    trace_dataset = fin.get('traces')\n",
    "    \n",
    "    # Convert to numpy arrays\n",
    "    eq_event_info = np.array(event_info_dataset)\n",
    "    eq_trace_data = np.array(trace_dataset)\n",
    "\n",
    "print(f'Loaded {eq_event_info.shape[0]} earthquake events')"
   ]
  },
  {
   "cell_type": "markdown",
   "metadata": {},
   "source": [
    "Get entries for a single event to look at"
   ]
  },
  {
   "cell_type": "code",
   "execution_count": 3,
   "metadata": {},
   "outputs": [],
   "source": [
    "single_event_data = eq_trace_data[3]\n",
    "single_event_info = eq_event_info[3]\n",
    "single_event_info = json.loads(single_event_info)  # Convert JSON string to python dict"
   ]
  },
  {
   "cell_type": "code",
   "execution_count": 4,
   "metadata": {},
   "outputs": [
    {
     "ename": "SyntaxError",
     "evalue": "invalid syntax (<ipython-input-4-74a6d17e3344>, line 1)",
     "output_type": "error",
     "traceback": [
      "\u001b[0;36m  File \u001b[0;32m\"<ipython-input-4-74a6d17e3344>\"\u001b[0;36m, line \u001b[0;32m1\u001b[0m\n\u001b[0;31m    Now have a look at the info regarding the traces (waveforms)\u001b[0m\n\u001b[0m           ^\u001b[0m\n\u001b[0;31mSyntaxError\u001b[0m\u001b[0;31m:\u001b[0m invalid syntax\n"
     ]
    }
   ],
   "source": [
    "Now have a look at the info regarding the traces (waveforms)"
   ]
  },
  {
   "cell_type": "code",
   "execution_count": null,
   "metadata": {},
   "outputs": [],
   "source": [
    "print(single_event_info['trace_stats'])"
   ]
  },
  {
   "cell_type": "markdown",
   "metadata": {},
   "source": [
    "Convert the date and time into an Obspy datetime object, which has some advantages over the native python one. All the times we use are in UTC / Greenwich."
   ]
  },
  {
   "cell_type": "code",
   "execution_count": null,
   "metadata": {},
   "outputs": [],
   "source": [
    "start_time = UTCDateTime(single_event_info['trace_stats']['starttime'])\n",
    "print(start_time)"
   ]
  },
  {
   "cell_type": "markdown",
   "metadata": {},
   "source": [
    "Now we'll make a Stream, which is a collection of several Trace's. A Trace is time series for an individual instrument channel at a station.\n",
    "\n",
    "The meaning of the channel names (like _BHE_) are:\n",
    " 1. Band code: _B_ means broadband (between 10 and 80 Hz)\n",
    " 2. Instrument code: _H_ means high gain seismometer\n",
    " 3. Orientation code: _E_ means East-West orientation, _N_: North-South, _Z_: Vertical"
   ]
  },
  {
   "cell_type": "code",
   "execution_count": null,
   "metadata": {},
   "outputs": [],
   "source": [
    "station = single_event_info['trace_stats']['station']\n",
    "channels = single_event_info['trace_stats']['channels']\n",
    "sampl_rate = single_event_info['trace_stats']['sampling_rate']\n",
    "\n",
    "trace_BHE = Trace(\n",
    "    data=single_event_data[0],\n",
    "    header={\n",
    "        'station': station,\n",
    "        'channel': channels[0],\n",
    "        'sampling_rate': sampl_rate,\n",
    "        'starttime': start_time\n",
    "    }\n",
    ")\n",
    "\n",
    "trace_BHN = Trace(\n",
    "    data=single_event_data[0],\n",
    "    header={\n",
    "        'station': station,\n",
    "        'channel': channels[1],\n",
    "        'sampling_rate': sampl_rate, \n",
    "        'starttime': start_time\n",
    "    }\n",
    ")\n",
    "trace_BHZ = Trace(\n",
    "    data=single_event_data[0],\n",
    "    header={\n",
    "        'station': station,\n",
    "        'channel': channels[2],\n",
    "        'sampling_rate': sampl_rate,\n",
    "        'starttime': start_time\n",
    "    }\n",
    ")\n",
    "\n",
    "# Assemple into a Stream\n",
    "stream = Stream([trace_BHE, trace_BHN, trace_BHZ])\n",
    "\n",
    "# Plot it\n",
    "stream.plot()"
   ]
  },
  {
   "cell_type": "markdown",
   "metadata": {},
   "source": [
    "Now we can do all sorts of operations on all traces collectively.\n",
    "Do some basic processing, see https://docs.obspy.org/packages/autogen/obspy.core.stream.Stream.html#obspy.core.stream.Stream\n",
    "\n",
    "The plot above looks rather noisy, so we'll try to make the signal clearer to the human eye."
   ]
  },
  {
   "cell_type": "code",
   "execution_count": null,
   "metadata": {},
   "outputs": [],
   "source": [
    "# Remove 'trend', e.g. remove linear offset from 0:\n",
    "stream.detrend('demean')\n",
    "\n",
    "# Taper the traces, meaning the ends will go gradually to 0 -- this is required before filtering\n",
    "stream.taper(max_percentage=0.05, type='cosine')\n",
    "\n",
    "# Apply a bandpass filter, selecting frequencies from 3 to 5 Hz\n",
    "stream.filter('bandpass', freqmin=3.0, freqmax=5.0)\n",
    "\n",
    "# Now we can plot it again, and see that the signal is more pronounced\n",
    "stream.plot()"
   ]
  },
  {
   "cell_type": "code",
   "execution_count": null,
   "metadata": {},
   "outputs": [],
   "source": []
  }
 ],
 "metadata": {
  "kernelspec": {
   "display_name": "Python 3",
   "language": "python",
   "name": "python3"
  },
  "language_info": {
   "codemirror_mode": {
    "name": "ipython",
    "version": 3
   },
   "file_extension": ".py",
   "mimetype": "text/x-python",
   "name": "python",
   "nbconvert_exporter": "python",
   "pygments_lexer": "ipython3",
   "version": "3.6.7"
  }
 },
 "nbformat": 4,
 "nbformat_minor": 2
}
